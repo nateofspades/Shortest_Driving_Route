{
 "cells": [
  {
   "cell_type": "code",
   "execution_count": 45,
   "id": "3e3b818f",
   "metadata": {},
   "outputs": [
    {
     "ename": "ModuleNotFoundError",
     "evalue": "No module named 'Mapbox_functions'",
     "output_type": "error",
     "traceback": [
      "\u001b[1;31m---------------------------------------------------------------------------\u001b[0m",
      "\u001b[1;31mModuleNotFoundError\u001b[0m                       Traceback (most recent call last)",
      "Input \u001b[1;32mIn [45]\u001b[0m, in \u001b[0;36m<cell line: 14>\u001b[1;34m()\u001b[0m\n\u001b[0;32m     11\u001b[0m \u001b[38;5;28;01mfrom\u001b[39;00m \u001b[38;5;21;01mmath\u001b[39;00m \u001b[38;5;28;01mimport\u001b[39;00m sin, cos, sqrt, atan2, pi\n\u001b[0;32m     13\u001b[0m \u001b[38;5;28;01mfrom\u001b[39;00m \u001b[38;5;21;01mATSP\u001b[39;00m \u001b[38;5;28;01mimport\u001b[39;00m atsp\n\u001b[1;32m---> 14\u001b[0m \u001b[38;5;28;01mfrom\u001b[39;00m \u001b[38;5;21;01mMapbox_functions\u001b[39;00m \u001b[38;5;28;01mimport\u001b[39;00m distance_between_nodes\n",
      "\u001b[1;31mModuleNotFoundError\u001b[0m: No module named 'Mapbox_functions'"
     ]
    }
   ],
   "source": [
    "import json\n",
    "import requests\n",
    "import mapbox\n",
    "import mapboxgl\n",
    "import polyline\n",
    "import geopy\n",
    "import folium\n",
    "import math\n",
    "import numpy as np\n",
    "import pprint\n",
    "from math import sin, cos, sqrt, atan2, pi\n",
    "\n",
    "from ATSP import atsp\n",
    "from Mapbox_functions import distance_between_nodes\n",
    "\n",
    "\n",
    "# import Mapbox_Functions as mb\n",
    "# from Mapbox_Functions import distance_between_nodes"
   ]
  },
  {
   "cell_type": "code",
   "execution_count": 11,
   "id": "a6889fd7",
   "metadata": {},
   "outputs": [],
   "source": [
    "access_token = 'pk.eyJ1IjoibmF0aGFuYnVybnNkcyIsImEiOiJjbGN1cnJtYXIwM3J5M29uOGVxODQ5YzZ6In0.yZoDdvT20-BYJoi8KOxvvA'\n",
    "\n",
    "node_list = [\n",
    "    (45.457908, -73.700931),\n",
    "    (45.439463, -75.142106), \n",
    "    (43.725324, -79.304997), \n",
    "    (43.886518, -78.912686)\n",
    "]\n",
    "\n",
    "start = (45.457908, -73.700931)"
   ]
  },
  {
   "cell_type": "code",
   "execution_count": 25,
   "id": "87924695",
   "metadata": {},
   "outputs": [
    {
     "ename": "NameError",
     "evalue": "name 'requests' is not defined",
     "output_type": "error",
     "traceback": [
      "\u001b[1;31m---------------------------------------------------------------------------\u001b[0m",
      "\u001b[1;31mNameError\u001b[0m                                 Traceback (most recent call last)",
      "Input \u001b[1;32mIn [25]\u001b[0m, in \u001b[0;36m<cell line: 1>\u001b[1;34m()\u001b[0m\n\u001b[1;32m----> 1\u001b[0m G \u001b[38;5;241m=\u001b[39m \u001b[43mmb\u001b[49m\u001b[38;5;241;43m.\u001b[39;49m\u001b[43mcreate_G\u001b[49m\u001b[43m(\u001b[49m\u001b[43mnode_list\u001b[49m\u001b[43m,\u001b[49m\u001b[43m \u001b[49m\u001b[43maccess_token\u001b[49m\u001b[43m)\u001b[49m\n\u001b[0;32m      2\u001b[0m G\n",
      "File \u001b[1;32m~\\PycharmProjects\\Shortest_Driving_Route\\Mapbox_Functions.py:57\u001b[0m, in \u001b[0;36mcreate_G\u001b[1;34m(node_list, access_token)\u001b[0m\n\u001b[0;32m     55\u001b[0m     \u001b[38;5;28;01mfor\u001b[39;00m j \u001b[38;5;129;01min\u001b[39;00m \u001b[38;5;28mrange\u001b[39m(i, n):\n\u001b[0;32m     56\u001b[0m         node_j \u001b[38;5;241m=\u001b[39m node_list[j]\n\u001b[1;32m---> 57\u001b[0m         node_i_edges[node_j] \u001b[38;5;241m=\u001b[39m \u001b[43mdistance_between_nodes\u001b[49m\u001b[43m(\u001b[49m\u001b[43mnode_i\u001b[49m\u001b[43m,\u001b[49m\u001b[43m \u001b[49m\u001b[43mnode_j\u001b[49m\u001b[43m,\u001b[49m\u001b[43m \u001b[49m\u001b[43maccess_token\u001b[49m\u001b[43m)\u001b[49m \u001b[38;5;66;03m#distances_temp[node_i][node_j]   # the distance between node_i and node_j; replace this with api call\u001b[39;00m\n\u001b[0;32m     58\u001b[0m     G[node_i] \u001b[38;5;241m=\u001b[39m node_i_edges\n\u001b[0;32m     60\u001b[0m \u001b[38;5;66;03m# Generate the entries of G below the diagonal by symmetry with the entries above the diagonal.\u001b[39;00m\n",
      "File \u001b[1;32m~\\PycharmProjects\\Shortest_Driving_Route\\Mapbox_Functions.py:26\u001b[0m, in \u001b[0;36mdistance_between_nodes\u001b[1;34m(node_1, node_2, access_token)\u001b[0m\n\u001b[0;32m     23\u001b[0m node_2 \u001b[38;5;241m=\u001b[39m \u001b[38;5;124mf\u001b[39m\u001b[38;5;124m\"\u001b[39m\u001b[38;5;132;01m{\u001b[39;00mnode_2[\u001b[38;5;241m1\u001b[39m]\u001b[38;5;132;01m}\u001b[39;00m\u001b[38;5;124m, \u001b[39m\u001b[38;5;132;01m{\u001b[39;00mnode_2[\u001b[38;5;241m0\u001b[39m]\u001b[38;5;132;01m}\u001b[39;00m\u001b[38;5;124m\"\u001b[39m\n\u001b[0;32m     25\u001b[0m \u001b[38;5;66;03m# Make the API request.\u001b[39;00m\n\u001b[1;32m---> 26\u001b[0m response \u001b[38;5;241m=\u001b[39m \u001b[43mrequests\u001b[49m\u001b[38;5;241m.\u001b[39mget(\n\u001b[0;32m     27\u001b[0m     \u001b[38;5;124m\"\u001b[39m\u001b[38;5;124mhttps://api.mapbox.com/directions/v5/mapbox/driving/\u001b[39m\u001b[38;5;124m\"\u001b[39m \u001b[38;5;241m+\u001b[39m node_1 \u001b[38;5;241m+\u001b[39m \u001b[38;5;124m\"\u001b[39m\u001b[38;5;124m;\u001b[39m\u001b[38;5;124m\"\u001b[39m \u001b[38;5;241m+\u001b[39m node_2 \u001b[38;5;241m+\u001b[39m \u001b[38;5;124m\"\u001b[39m\u001b[38;5;124m.json?access_token=\u001b[39m\u001b[38;5;124m\"\u001b[39m \u001b[38;5;241m+\u001b[39m access_token)\n\u001b[0;32m     29\u001b[0m \u001b[38;5;66;03m# Parse the JSON response\u001b[39;00m\n\u001b[0;32m     30\u001b[0m data \u001b[38;5;241m=\u001b[39m response\u001b[38;5;241m.\u001b[39mjson()\n",
      "\u001b[1;31mNameError\u001b[0m: name 'requests' is not defined"
     ]
    }
   ],
   "source": [
    "G = mb.create_G(node_list, access_token)\n",
    "G"
   ]
  },
  {
   "cell_type": "code",
   "execution_count": 26,
   "id": "26718861",
   "metadata": {},
   "outputs": [
    {
     "ename": "NameError",
     "evalue": "name 'requests' is not defined",
     "output_type": "error",
     "traceback": [
      "\u001b[1;31m---------------------------------------------------------------------------\u001b[0m",
      "\u001b[1;31mNameError\u001b[0m                                 Traceback (most recent call last)",
      "Input \u001b[1;32mIn [26]\u001b[0m, in \u001b[0;36m<cell line: 1>\u001b[1;34m()\u001b[0m\n\u001b[1;32m----> 1\u001b[0m \u001b[43mmb\u001b[49m\u001b[38;5;241;43m.\u001b[39;49m\u001b[43mdistance_between_nodes\u001b[49m\u001b[43m(\u001b[49m\u001b[43mnode_list\u001b[49m\u001b[43m[\u001b[49m\u001b[38;5;241;43m0\u001b[39;49m\u001b[43m]\u001b[49m\u001b[43m,\u001b[49m\u001b[43m \u001b[49m\u001b[43mnode_list\u001b[49m\u001b[43m[\u001b[49m\u001b[38;5;241;43m1\u001b[39;49m\u001b[43m]\u001b[49m\u001b[43m,\u001b[49m\u001b[43m \u001b[49m\u001b[43maccess_token\u001b[49m\u001b[43m)\u001b[49m\n",
      "File \u001b[1;32m~\\PycharmProjects\\Shortest_Driving_Route\\Mapbox_Functions.py:26\u001b[0m, in \u001b[0;36mdistance_between_nodes\u001b[1;34m(node_1, node_2, access_token)\u001b[0m\n\u001b[0;32m     23\u001b[0m node_2 \u001b[38;5;241m=\u001b[39m \u001b[38;5;124mf\u001b[39m\u001b[38;5;124m\"\u001b[39m\u001b[38;5;132;01m{\u001b[39;00mnode_2[\u001b[38;5;241m1\u001b[39m]\u001b[38;5;132;01m}\u001b[39;00m\u001b[38;5;124m, \u001b[39m\u001b[38;5;132;01m{\u001b[39;00mnode_2[\u001b[38;5;241m0\u001b[39m]\u001b[38;5;132;01m}\u001b[39;00m\u001b[38;5;124m\"\u001b[39m\n\u001b[0;32m     25\u001b[0m \u001b[38;5;66;03m# Make the API request.\u001b[39;00m\n\u001b[1;32m---> 26\u001b[0m response \u001b[38;5;241m=\u001b[39m \u001b[43mrequests\u001b[49m\u001b[38;5;241m.\u001b[39mget(\n\u001b[0;32m     27\u001b[0m     \u001b[38;5;124m\"\u001b[39m\u001b[38;5;124mhttps://api.mapbox.com/directions/v5/mapbox/driving/\u001b[39m\u001b[38;5;124m\"\u001b[39m \u001b[38;5;241m+\u001b[39m node_1 \u001b[38;5;241m+\u001b[39m \u001b[38;5;124m\"\u001b[39m\u001b[38;5;124m;\u001b[39m\u001b[38;5;124m\"\u001b[39m \u001b[38;5;241m+\u001b[39m node_2 \u001b[38;5;241m+\u001b[39m \u001b[38;5;124m\"\u001b[39m\u001b[38;5;124m.json?access_token=\u001b[39m\u001b[38;5;124m\"\u001b[39m \u001b[38;5;241m+\u001b[39m access_token)\n\u001b[0;32m     29\u001b[0m \u001b[38;5;66;03m# Parse the JSON response\u001b[39;00m\n\u001b[0;32m     30\u001b[0m data \u001b[38;5;241m=\u001b[39m response\u001b[38;5;241m.\u001b[39mjson()\n",
      "\u001b[1;31mNameError\u001b[0m: name 'requests' is not defined"
     ]
    }
   ],
   "source": [
    "distance_between_nodes(node_list[0], node_list[1], access_token)"
   ]
  },
  {
   "cell_type": "code",
   "execution_count": 28,
   "id": "26a8b068",
   "metadata": {},
   "outputs": [
    {
     "ename": "AttributeError",
     "evalue": "module 'Mapbox_Functions' has no attribute 'f'",
     "output_type": "error",
     "traceback": [
      "\u001b[1;31m---------------------------------------------------------------------------\u001b[0m",
      "\u001b[1;31mAttributeError\u001b[0m                            Traceback (most recent call last)",
      "Input \u001b[1;32mIn [28]\u001b[0m, in \u001b[0;36m<cell line: 1>\u001b[1;34m()\u001b[0m\n\u001b[1;32m----> 1\u001b[0m \u001b[43mmb\u001b[49m\u001b[38;5;241;43m.\u001b[39;49m\u001b[43mf\u001b[49m(\u001b[38;5;241m2\u001b[39m)\n",
      "\u001b[1;31mAttributeError\u001b[0m: module 'Mapbox_Functions' has no attribute 'f'"
     ]
    }
   ],
   "source": [
    "mb.f(2)"
   ]
  },
  {
   "cell_type": "code",
   "execution_count": null,
   "id": "d10797fb",
   "metadata": {},
   "outputs": [],
   "source": []
  }
 ],
 "metadata": {
  "kernelspec": {
   "display_name": "Python 3 (ipykernel)",
   "language": "python",
   "name": "python3"
  },
  "language_info": {
   "codemirror_mode": {
    "name": "ipython",
    "version": 3
   },
   "file_extension": ".py",
   "mimetype": "text/x-python",
   "name": "python",
   "nbconvert_exporter": "python",
   "pygments_lexer": "ipython3",
   "version": "3.10.5"
  }
 },
 "nbformat": 4,
 "nbformat_minor": 5
}

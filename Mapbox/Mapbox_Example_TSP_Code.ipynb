{
 "cells": [
  {
   "cell_type": "markdown",
   "id": "fdcf48b1",
   "metadata": {},
   "source": [
    "# Generate a Hamiltonian cycle on a map\n",
    "\n",
    "A truck driver needs to visit 5 locations - Ottawa, Montreal, Quebec city, London and Kingston - although not in this order. The driver will begin in Quebec city, and from there needs to know the shortest route that will allow him/her to visit the 4 remaining locations before returning to Quebec city. Moreover, the driver would like recommendations for when to look out for gas stations.\n",
    "\n",
    "This notebook creates an interactive map that shows the recommended route through the 5 locations. The map labels the roads that the truck should drive along, the 5 locations, and recommendations for when to start looking for gas stations. \n",
    "\n",
    "Screenshots of the map can be found in the folder titled **Mapbox_Example_TSP_Screenshots**."
   ]
  },
  {
   "cell_type": "code",
   "execution_count": null,
   "id": "b1b53c7f",
   "metadata": {},
   "outputs": [],
   "source": [
    "from Mapbox_Functions import generate_map"
   ]
  },
  {
   "cell_type": "code",
   "execution_count": null,
   "id": "be0168eb",
   "metadata": {},
   "outputs": [],
   "source": [
    "access_token = # REPLACE THIS COMMENT WITH A MAPBOX ACCESS TOKEN (WRITTEN AS A PYTHON STRING).\n",
    "\n",
    "node_list = [\n",
    "    (45.423477, -75.697917),       # Ottawa\n",
    "    (45.498046, -73.577519),       # Montreal\n",
    "    (46.781085, -71.328005),       # Quebec city\n",
    "    (43.003273, -81.222429),       # London\n",
    "    (44.242969, -76.514402)        # Kingston\n",
    "] \n",
    "start = (46.781085, -71.328005)    # Start the trip in Quebec city.\n",
    "start_tank_kms = 200               # Start the trip with 200kms worth of gas in the tank. \n",
    "full_tank_kms = 800                # The truck can travel 800kms on a full tank of gas.\n",
    "min_tank_tolerance_kms = 20        # The truck driver never wants to have less than 20kms worth of gas in the tank.\n",
    "is_asymmetric = False              # The truck driver needs to return to the starting point at the end of the trip.\n",
    "\n",
    "# Generate the interactive visualization of the route. \n",
    "generate_map(access_token, node_list, start, start_tank_kms, full_tank_kms, min_tank_tolerance_kms, is_asymmetric)\n",
    "\n",
    "# (See screenshots of the generated map in folder titled Mapbox_Example_TSP_Screenshots.)"
   ]
  }
 ],
 "metadata": {
  "kernelspec": {
   "display_name": "Python 3 (ipykernel)",
   "language": "python",
   "name": "python3"
  },
  "language_info": {
   "codemirror_mode": {
    "name": "ipython",
    "version": 3
   },
   "file_extension": ".py",
   "mimetype": "text/x-python",
   "name": "python",
   "nbconvert_exporter": "python",
   "pygments_lexer": "ipython3",
   "version": "3.10.5"
  }
 },
 "nbformat": 4,
 "nbformat_minor": 5
}

{
 "cells": [
  {
   "cell_type": "code",
   "execution_count": null,
   "id": "7be058f1",
   "metadata": {},
   "outputs": [],
   "source": [
    "from Mapbox_Functions import generate_map"
   ]
  },
  {
   "cell_type": "code",
   "execution_count": null,
   "id": "85dd3e52",
   "metadata": {},
   "outputs": [],
   "source": [
    "access_token = # REPLACE THIS COMMENT WITH A MAPBOX ACCESS TOKEN (WRITTEN AS A PYTHON STRING).\n",
    "\n",
    "node_list = [\n",
    "    (45.423477, -75.697917),       # Ottawa\n",
    "    (45.498046, -73.577519),       # Montreal\n",
    "    (46.781085, -71.328005),       # Quebec city\n",
    "    (43.003273, -81.222429),       # London\n",
    "    (44.242969, -76.514402)        # Kingston\n",
    "] \n",
    "start = (46.781085, -71.328005)    # Start the trip in Quebec city.\n",
    "start_tank_kms = 200               # Start the trip with 200kms worth of gas in the tank. \n",
    "full_tank_kms = 800                # The truck can travel 800kms on a full tank of gas.\n",
    "min_tank_tolerance_kms = 20        # The truck driver never wants to have less than 20kms worth of gas in the tank.\n",
    "is_asymmetric = True               # The truck driver does not need to return to the starting point at the end of the trip.\n",
    "\n",
    "# Generate the interactive visualization of the route.\n",
    "generate_map(access_token, node_list, start, start_tank_kms, full_tank_kms, min_tank_tolerance_kms, is_asymmetric)"
   ]
  }
 ],
 "metadata": {
  "kernelspec": {
   "display_name": "Python 3 (ipykernel)",
   "language": "python",
   "name": "python3"
  },
  "language_info": {
   "codemirror_mode": {
    "name": "ipython",
    "version": 3
   },
   "file_extension": ".py",
   "mimetype": "text/x-python",
   "name": "python",
   "nbconvert_exporter": "python",
   "pygments_lexer": "ipython3",
   "version": "3.10.5"
  }
 },
 "nbformat": 4,
 "nbformat_minor": 5
}

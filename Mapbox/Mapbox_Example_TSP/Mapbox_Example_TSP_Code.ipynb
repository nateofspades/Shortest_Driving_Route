{
 "cells": [
  {
   "cell_type": "code",
   "execution_count": 1,
   "id": "b1b53c7f",
   "metadata": {},
   "outputs": [
    {
     "ename": "ModuleNotFoundError",
     "evalue": "No module named 'Mapbox_Functions'",
     "output_type": "error",
     "traceback": [
      "\u001b[1;31m---------------------------------------------------------------------------\u001b[0m",
      "\u001b[1;31mModuleNotFoundError\u001b[0m                       Traceback (most recent call last)",
      "Input \u001b[1;32mIn [1]\u001b[0m, in \u001b[0;36m<cell line: 3>\u001b[1;34m()\u001b[0m\n\u001b[0;32m      1\u001b[0m \u001b[38;5;28;01mimport\u001b[39;00m \u001b[38;5;21;01msys\u001b[39;00m\n\u001b[0;32m      2\u001b[0m sys\u001b[38;5;241m.\u001b[39mpath\u001b[38;5;241m.\u001b[39mappend(\u001b[38;5;124m'\u001b[39m\u001b[38;5;124m../Mapbox\u001b[39m\u001b[38;5;124m'\u001b[39m)\n\u001b[1;32m----> 3\u001b[0m \u001b[38;5;28;01mfrom\u001b[39;00m \u001b[38;5;21;01mMapbox_Functions\u001b[39;00m \u001b[38;5;28;01mimport\u001b[39;00m generate_map\n",
      "\u001b[1;31mModuleNotFoundError\u001b[0m: No module named 'Mapbox_Functions'"
     ]
    }
   ],
   "source": [
    "import sys\n",
    "sys.path.append('../Mapbox')\n",
    "from Mapbox_Functions import generate_map\n",
    "\n",
    "# from Mapbox.Mapbox_Functions import generate_map"
   ]
  },
  {
   "cell_type": "code",
   "execution_count": 2,
   "id": "d94b901e",
   "metadata": {},
   "outputs": [
    {
     "ename": "ModuleNotFoundError",
     "evalue": "No module named 'Mapbox'",
     "output_type": "error",
     "traceback": [
      "\u001b[1;31m---------------------------------------------------------------------------\u001b[0m",
      "\u001b[1;31mModuleNotFoundError\u001b[0m                       Traceback (most recent call last)",
      "Input \u001b[1;32mIn [2]\u001b[0m, in \u001b[0;36m<cell line: 1>\u001b[1;34m()\u001b[0m\n\u001b[1;32m----> 1\u001b[0m \u001b[38;5;28;01mfrom\u001b[39;00m \u001b[38;5;21;01mMapbox\u001b[39;00m \u001b[38;5;28;01mimport\u001b[39;00m Mapbox_Functions\n",
      "\u001b[1;31mModuleNotFoundError\u001b[0m: No module named 'Mapbox'"
     ]
    }
   ],
   "source": [
    "from Mapbox import Mapbox_Functions"
   ]
  },
  {
   "cell_type": "code",
   "execution_count": 3,
   "id": "cca64aa4",
   "metadata": {},
   "outputs": [
    {
     "ename": "ImportError",
     "evalue": "attempted relative import with no known parent package",
     "output_type": "error",
     "traceback": [
      "\u001b[1;31m---------------------------------------------------------------------------\u001b[0m",
      "\u001b[1;31mImportError\u001b[0m                               Traceback (most recent call last)",
      "Input \u001b[1;32mIn [3]\u001b[0m, in \u001b[0;36m<cell line: 1>\u001b[1;34m()\u001b[0m\n\u001b[1;32m----> 1\u001b[0m \u001b[38;5;28;01mfrom\u001b[39;00m \u001b[38;5;21;01m.\u001b[39;00m\u001b[38;5;21;01m.\u001b[39;00m\u001b[38;5;21;01mMapbox\u001b[39;00m \u001b[38;5;28;01mimport\u001b[39;00m Mapbox_Functions\n",
      "\u001b[1;31mImportError\u001b[0m: attempted relative import with no known parent package"
     ]
    }
   ],
   "source": [
    "from ..Mapbox import Mapbox_Functions"
   ]
  },
  {
   "cell_type": "code",
   "execution_count": null,
   "id": "92ebd2ad",
   "metadata": {},
   "outputs": [],
   "source": []
  },
  {
   "cell_type": "code",
   "execution_count": null,
   "id": "d4cb28c3",
   "metadata": {},
   "outputs": [],
   "source": []
  },
  {
   "cell_type": "code",
   "execution_count": null,
   "id": "ec45e4b0",
   "metadata": {},
   "outputs": [],
   "source": []
  },
  {
   "cell_type": "code",
   "execution_count": null,
   "id": "f61e293b",
   "metadata": {},
   "outputs": [],
   "source": []
  },
  {
   "cell_type": "code",
   "execution_count": null,
   "id": "7b76cb0e",
   "metadata": {},
   "outputs": [],
   "source": []
  },
  {
   "cell_type": "code",
   "execution_count": null,
   "id": "625ee42d",
   "metadata": {},
   "outputs": [],
   "source": []
  },
  {
   "cell_type": "code",
   "execution_count": null,
   "id": "be0168eb",
   "metadata": {},
   "outputs": [],
   "source": [
    "access_token = # REPLACE THIS COMMENT WITH A MAPBOX ACCESS TOKEN (WRITTEN AS A PYTHON STRING).\n",
    "node_list = [\n",
    "    (45.423477, -75.697917),       # Ottawa\n",
    "    (45.498046, -73.577519),       # Montreal\n",
    "    (46.781085, -71.328005),       # Quebec city\n",
    "    (43.003273, -81.222429),       # London\n",
    "    (44.242969, -76.514402)        # Kingston\n",
    "] \n",
    "start = (46.781085, -71.328005)    # Start the trip in Quebec city.\n",
    "start_tank_kms = 200               # Start the trip with 200kms worth of gas in the tank. \n",
    "full_tank_kms = 800                # The truck can travel 800kms on a full tank of gas.\n",
    "min_tank_tolerance_kms = 20        # The truck driver never wants to have less than 20kms worth of gas in the tank.\n",
    "is_asymmetric = False              # The truck driver needs to return to the starting point at the end of the trip.\n",
    "\n",
    "# Generate the interactive visualization of the route.\n",
    "generate_map(access_token, node_list, start, start_tank_kms, full_tank_kms, min_tank_tolerance_kms, is_asymmetric)"
   ]
  },
  {
   "cell_type": "code",
   "execution_count": null,
   "id": "a51358a2",
   "metadata": {},
   "outputs": [],
   "source": []
  }
 ],
 "metadata": {
  "kernelspec": {
   "display_name": "Python 3 (ipykernel)",
   "language": "python",
   "name": "python3"
  },
  "language_info": {
   "codemirror_mode": {
    "name": "ipython",
    "version": 3
   },
   "file_extension": ".py",
   "mimetype": "text/x-python",
   "name": "python",
   "nbconvert_exporter": "python",
   "pygments_lexer": "ipython3",
   "version": "3.10.5"
  }
 },
 "nbformat": 4,
 "nbformat_minor": 5
}
